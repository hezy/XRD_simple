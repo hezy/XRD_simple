{
 "cells": [
  {
   "attachments": {},
   "cell_type": "markdown",
   "metadata": {},
   "source": [
    "simple_XRD.jl\n",
    "by Hezy Amiel\n",
    "January 2023\n",
    "Julia 1.8.5"
   ]
  },
  {
   "cell_type": "code",
   "execution_count": 86,
   "metadata": {},
   "outputs": [],
   "source": [
    "using Plots\n",
    "using SpecialFunctions"
   ]
  },
  {
   "cell_type": "code",
   "execution_count": 87,
   "metadata": {},
   "outputs": [
    {
     "data": {
      "text/plain": [
       "Gaussian (generic function with 1 method)"
      ]
     },
     "metadata": {},
     "output_type": "display_data"
    }
   ],
   "source": [
    "function Gaussian(x, fwhm)\n",
    "    σ = fwhm/(2√(2log(2)))\n",
    "    return @. 1/√(2π)/σ * exp(-x^2/2σ^2)\n",
    "end"
   ]
  },
  {
   "cell_type": "code",
   "execution_count": 88,
   "metadata": {},
   "outputs": [
    {
     "data": {
      "text/plain": [
       "Lorentzian (generic function with 1 method)"
      ]
     },
     "metadata": {},
     "output_type": "display_data"
    }
   ],
   "source": [
    "function Lorentzian(x, fwhm)\n",
    "    γ = fwhm / 2\n",
    "    return @. (γ/pi) / (x^2 + γ^2)\n",
    "end"
   ]
  },
  {
   "cell_type": "code",
   "execution_count": 89,
   "metadata": {},
   "outputs": [
    {
     "data": {
      "text/plain": [
       "Pseudo_Voigt (generic function with 1 method)"
      ]
     },
     "metadata": {},
     "output_type": "display_data"
    }
   ],
   "source": [
    "function Pseudo_Voigt(x, fwhm, n)\n",
    "\treturn n * Lorentzian(x, fwhm) + (1 - n) * Gaussian(x, fwhm)\n",
    "end"
   ]
  },
  {
   "cell_type": "code",
   "execution_count": 90,
   "metadata": {},
   "outputs": [
    {
     "data": {
      "text/plain": [
       "Voigt (generic function with 1 method)"
      ]
     },
     "metadata": {},
     "output_type": "display_data"
    }
   ],
   "source": [
    "function Voigt(x, fwhm_L, fwhm_G)\n",
    "    γ = fwhm_L/2\n",
    "    σ = fwhm_G/(2√(2log(2)))\n",
    "    z = @. -im * (x + im * γ) / (√2 * σ)\n",
    "    return @. real(erfcx(z)) / (√(2pi) * σ)\n",
    "end"
   ]
  },
  {
   "cell_type": "code",
   "execution_count": 99,
   "metadata": {},
   "outputs": [
    {
     "data": {
      "text/plain": [
       "peaks_width (generic function with 1 method)"
      ]
     },
     "metadata": {},
     "output_type": "display_data"
    }
   ],
   "source": [
    "function peaks_width(two_θ_deg, U, V, W)\n",
    "    two_θ_rad = two_θ_deg * π/180\n",
    "    return @. √(U * tan(two_θ_rad/2)^2 + V * tan(two_θ_rad/2) + W)\n",
    "end"
   ]
  },
  {
   "cell_type": "code",
   "execution_count": 91,
   "metadata": {},
   "outputs": [
    {
     "data": {
      "text/plain": [
       "bragg_angels (generic function with 1 method)"
      ]
     },
     "metadata": {},
     "output_type": "display_data"
    }
   ],
   "source": [
    "function bragg_angels(wavelength, d_spacings)\n",
    "    sinθ = wavelength ./ (2*d_spacings)\n",
    "    sinθ_cleaned = [item for item in sinθ if abs(item)<=1]  # removing values outside (-1,1)\n",
    "    return 2 * (180/π) * asin.(sinθ_cleaned)  # *2 for 2θ  \n",
    "end"
   ]
  },
  {
   "cell_type": "code",
   "execution_count": 92,
   "metadata": {},
   "outputs": [
    {
     "data": {
      "text/plain": [
       "d_list (generic function with 1 method)"
      ]
     },
     "metadata": {},
     "output_type": "display_data"
    }
   ],
   "source": [
    "function d_list(indices, a)\n",
    "    return a ./ .√(sum(indices.^2, dims=2))\n",
    "end"
   ]
  },
  {
   "attachments": {},
   "cell_type": "markdown",
   "metadata": {},
   "source": [
    "General Sttings"
   ]
  },
  {
   "cell_type": "code",
   "execution_count": 93,
   "metadata": {},
   "outputs": [
    {
     "data": {
      "text/plain": [
       "(0.2, 0.2, 0.2)"
      ]
     },
     "metadata": {},
     "output_type": "display_data"
    }
   ],
   "source": [
    "N = 1000\n",
    "θ = LinRange(0, 180, N)\n",
    "\n",
    "wavelength = 0.15418  # CuKα radiation in nm\n",
    "#wavelength = 0.18125  # \n",
    "U, V, W = 0.2, 0.2, 0.2"
   ]
  },
  {
   "attachments": {},
   "cell_type": "markdown",
   "metadata": {},
   "source": [
    "#Simple Cubic\n",
    "In simple cubic lattince, all Miller indices are allowed"
   ]
  },
  {
   "cell_type": "code",
   "execution_count": 94,
   "metadata": {},
   "outputs": [
    {
     "data": {
      "text/plain": [
       "0.3352"
      ]
     },
     "metadata": {},
     "output_type": "display_data"
    }
   ],
   "source": [
    "a_SC = 0.3352"
   ]
  },
  {
   "cell_type": "code",
   "execution_count": 95,
   "metadata": {},
   "outputs": [
    {
     "data": {
      "text/plain": [
       "63×3 adjoint(::Matrix{Int64}) with eltype Int64:\n",
       " 0  0  1\n",
       " 0  0  2\n",
       " 0  0  3\n",
       " 0  1  0\n",
       " 0  1  1\n",
       " 0  1  2\n",
       " 0  1  3\n",
       " 0  2  0\n",
       " 0  2  1\n",
       " 0  2  2\n",
       " ⋮     \n",
       " 3  1  3\n",
       " 3  2  0\n",
       " 3  2  1\n",
       " 3  2  2\n",
       " 3  2  3\n",
       " 3  3  0\n",
       " 3  3  1\n",
       " 3  3  2\n",
       " 3  3  3"
      ]
     },
     "metadata": {},
     "output_type": "display_data"
    }
   ],
   "source": [
    "generate_indices = [[h,k,l] for h=0:3 for k=0:3 for l=0:3 if [h,k,l]!=[0,0,0]]\n",
    "indices_SC = (reduce(hcat, generate_indices))'"
   ]
  },
  {
   "cell_type": "code",
   "execution_count": 96,
   "metadata": {},
   "outputs": [
    {
     "data": {
      "text/plain": [
       "56-element Vector{Float64}:\n",
       "  26.592035832220116\n",
       "  54.76959489844517\n",
       "  87.25171650959486\n",
       "  26.592035832220116\n",
       "  37.96069301336359\n",
       "  61.89542375307041\n",
       "  93.31557037970785\n",
       "  54.76959489844517\n",
       "  61.89542375307041\n",
       "  81.15675142339374\n",
       "   ⋮\n",
       " 112.03580473576237\n",
       " 154.70282122015084\n",
       "  93.31557037970785\n",
       "  99.41701071913283\n",
       " 118.74873813556404\n",
       " 112.03580473576237\n",
       " 118.74873813556404\n",
       " 142.96997789440667\n",
       " 154.70282122015084"
      ]
     },
     "metadata": {},
     "output_type": "display_data"
    }
   ],
   "source": [
    "bragg_angels(wavelength, d_list(indices_SC, a_SC))"
   ]
  },
  {
   "cell_type": "code",
   "execution_count": null,
   "metadata": {},
   "outputs": [],
   "source": []
  }
 ],
 "metadata": {
  "kernelspec": {
   "display_name": "Julia 1.8.5",
   "language": "julia",
   "name": "julia-1.8"
  },
  "language_info": {
   "file_extension": ".jl",
   "mimetype": "application/julia",
   "name": "julia",
   "version": "1.8.5"
  },
  "orig_nbformat": 4
 },
 "nbformat": 4,
 "nbformat_minor": 2
}
