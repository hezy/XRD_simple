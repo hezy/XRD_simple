{
 "cells": [
  {
   "attachments": {},
   "cell_type": "markdown",
   "metadata": {},
   "source": [
    "simple_XRD.jl\n",
    "by Hezy Amiel\n",
    "January 2023\n",
    "Julia 1.8.5"
   ]
  },
  {
   "cell_type": "code",
   "execution_count": 15,
   "metadata": {},
   "outputs": [],
   "source": [
    "using Plots\n",
    "using SpecialFunctions"
   ]
  },
  {
   "cell_type": "code",
   "execution_count": 16,
   "metadata": {},
   "outputs": [
    {
     "data": {
      "text/plain": [
       "Gaussian (generic function with 1 method)"
      ]
     },
     "metadata": {},
     "output_type": "display_data"
    }
   ],
   "source": [
    "function Gaussian(x, fwhm)\n",
    "    σ = fwhm/(2√(2log(2)))\n",
    "    return @. 1/√(2π)/σ * exp(-x^2/2σ^2)\n",
    "end"
   ]
  },
  {
   "cell_type": "code",
   "execution_count": 17,
   "metadata": {},
   "outputs": [
    {
     "data": {
      "text/plain": [
       "Lorentzian (generic function with 1 method)"
      ]
     },
     "metadata": {},
     "output_type": "display_data"
    }
   ],
   "source": [
    "function Lorentzian(x, fwhm)\n",
    "    γ = fwhm / 2\n",
    "    return @. (γ/pi) / (x^2 + γ^2)\n",
    "end"
   ]
  },
  {
   "cell_type": "code",
   "execution_count": 18,
   "metadata": {},
   "outputs": [
    {
     "data": {
      "text/plain": [
       "Pseudo_Voigt (generic function with 1 method)"
      ]
     },
     "metadata": {},
     "output_type": "display_data"
    }
   ],
   "source": [
    "function Pseudo_Voigt(x, fwhm, n)\n",
    "\treturn n * Lorentzian(x, fwhm) + (1 - n) * Gaussian(x, fwhm)\n",
    "end"
   ]
  },
  {
   "cell_type": "code",
   "execution_count": 19,
   "metadata": {},
   "outputs": [
    {
     "data": {
      "text/plain": [
       "Voigt (generic function with 1 method)"
      ]
     },
     "metadata": {},
     "output_type": "display_data"
    }
   ],
   "source": [
    "function Voigt(x, fwhm_L, fwhm_G)\n",
    "    γ = fwhm_L/2\n",
    "    σ = fwhm_G/(2√(2log(2)))\n",
    "    z = @. -im * (x + im * γ) / (√2 * σ)\n",
    "    return @. real(erfcx(z)) / (√(2pi) * σ)\n",
    "end"
   ]
  },
  {
   "cell_type": "code",
   "execution_count": 20,
   "metadata": {},
   "outputs": [
    {
     "data": {
      "text/plain": [
       "bragg_angels (generic function with 1 method)"
      ]
     },
     "metadata": {},
     "output_type": "display_data"
    }
   ],
   "source": [
    "function bragg_angels(wavelength, d_spacings)\n",
    "    sinθ = wavelength ./ (2*d_spacings)\n",
    "    sinθ_cleand = [item for item in sinθ if abs(sin2θ)<=1]  # removing values outside (-1,1)\n",
    "    return 2 * (180/π) * asin.(sinθ_cleaned)  # *2 for 2θ  \n",
    "end"
   ]
  },
  {
   "cell_type": "code",
   "execution_count": 21,
   "metadata": {},
   "outputs": [
    {
     "data": {
      "text/plain": [
       "d_list (generic function with 1 method)"
      ]
     },
     "metadata": {},
     "output_type": "display_data"
    }
   ],
   "source": [
    "function d_list(indices, a)\n",
    "    return a ./ .√(sum(indices.^2, dims=2))\n",
    "end"
   ]
  },
  {
   "cell_type": "code",
   "execution_count": 22,
   "metadata": {},
   "outputs": [
    {
     "data": {
      "text/plain": [
       "(0.2, 0.2, 0.2)"
      ]
     },
     "metadata": {},
     "output_type": "display_data"
    }
   ],
   "source": [
    "N = 1000\n",
    "θ = LinRange(0, 180, N)\n",
    "\n",
    "wavelength = 0.15418  # CuKα radiation in nm\n",
    "#wavelength = 0.18125  # \n",
    "U, V, W = 0.2, 0.2, 0.2"
   ]
  },
  {
   "attachments": {},
   "cell_type": "markdown",
   "metadata": {},
   "source": [
    "#Simple Cubic\n",
    "In simple cubic lattince, all Miller indices are allowed"
   ]
  },
  {
   "cell_type": "code",
   "execution_count": 40,
   "metadata": {},
   "outputs": [
    {
     "data": {
      "text/plain": [
       "7×3 adjoint(::Matrix{Int64}) with eltype Int64:\n",
       " 0  0  1\n",
       " 0  1  0\n",
       " 0  1  1\n",
       " 1  0  0\n",
       " 1  0  1\n",
       " 1  1  0\n",
       " 1  1  1"
      ]
     },
     "metadata": {},
     "output_type": "display_data"
    }
   ],
   "source": [
    "generate_indices = [[h,k,l] for h=0:1 for k=0:1 for l=0:1 if [h,k,l]!=[0,0,0]]\n",
    "indices_SC = (reduce(hcat, generate_indices))'"
   ]
  },
  {
   "cell_type": "code",
   "execution_count": 41,
   "metadata": {},
   "outputs": [
    {
     "data": {
      "text/plain": [
       "7×1 Matrix{Float64}:\n",
       " 1.0\n",
       " 1.0\n",
       " 0.7071067811865475\n",
       " 1.0\n",
       " 0.7071067811865475\n",
       " 0.7071067811865475\n",
       " 0.5773502691896258"
      ]
     },
     "metadata": {},
     "output_type": "display_data"
    }
   ],
   "source": [
    "d_list(indices_SC, 1)"
   ]
  }
 ],
 "metadata": {
  "kernelspec": {
   "display_name": "Julia 1.8.5",
   "language": "julia",
   "name": "julia-1.8"
  },
  "language_info": {
   "file_extension": ".jl",
   "mimetype": "application/julia",
   "name": "julia",
   "version": "1.8.5"
  },
  "orig_nbformat": 4
 },
 "nbformat": 4,
 "nbformat_minor": 2
}
