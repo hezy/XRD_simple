{
 "cells": [
  {
   "attachments": {},
   "cell_type": "markdown",
   "metadata": {},
   "source": [
    "simple_XRD.jl\n",
    "by Hezy Amiel\n",
    "January 2023\n",
    "Julia 1.8.5"
   ]
  },
  {
   "cell_type": "code",
   "execution_count": 89,
   "metadata": {},
   "outputs": [],
   "source": [
    "using Plots\n",
    "using SpecialFunctions"
   ]
  },
  {
   "cell_type": "code",
   "execution_count": 90,
   "metadata": {},
   "outputs": [
    {
     "data": {
      "text/plain": [
       "Gaussian (generic function with 1 method)"
      ]
     },
     "metadata": {},
     "output_type": "display_data"
    }
   ],
   "source": [
    "function Gaussian(x, fwhm)\n",
    "    σ = fwhm/(2√(2log(2)))\n",
    "    return @. 1/√(2π)/σ * exp(-x^2/2σ^2)\n",
    "end"
   ]
  },
  {
   "cell_type": "code",
   "execution_count": 91,
   "metadata": {},
   "outputs": [
    {
     "data": {
      "text/plain": [
       "Lorentzian (generic function with 1 method)"
      ]
     },
     "metadata": {},
     "output_type": "display_data"
    }
   ],
   "source": [
    "function Lorentzian(x, fwhm)\n",
    "    γ = fwhm / 2\n",
    "    return @. (γ/pi) / (x^2 + γ^2)\n",
    "end"
   ]
  },
  {
   "cell_type": "code",
   "execution_count": 98,
   "metadata": {},
   "outputs": [
    {
     "data": {
      "text/plain": [
       "Pseudo_Voigt (generic function with 1 method)"
      ]
     },
     "metadata": {},
     "output_type": "display_data"
    }
   ],
   "source": [
    "function Pseudo_Voigt(x, fwhm, n)\n",
    "\treturn n * Lorentzian(x, fwhm) + (1 - n) * Gaussian(x, fwhm)\n",
    "end"
   ]
  },
  {
   "cell_type": "code",
   "execution_count": 93,
   "metadata": {},
   "outputs": [
    {
     "data": {
      "text/plain": [
       "Voigt (generic function with 1 method)"
      ]
     },
     "metadata": {},
     "output_type": "display_data"
    }
   ],
   "source": [
    "function Voigt(x, fwhm_L, fwhm_G)\n",
    "    γ = fwhm_L/2\n",
    "    σ = fwhm_G/(2√(2log(2)))\n",
    "    z = @. -im * (x + im * γ) / (√2 * σ)\n",
    "    return @. real(erfcx(z)) / (√(2pi) * σ)\n",
    "end"
   ]
  },
  {
   "cell_type": "code",
   "execution_count": 94,
   "metadata": {},
   "outputs": [
    {
     "data": {
      "text/plain": [
       "find_d (generic function with 1 method)"
      ]
     },
     "metadata": {},
     "output_type": "display_data"
    }
   ],
   "source": [
    "function find_d(indices, a)\n",
    "    return a ./ .√(sum(indices.^2, dims=2))\n",
    "end"
   ]
  },
  {
   "cell_type": "code",
   "execution_count": 96,
   "metadata": {},
   "outputs": [
    {
     "data": {
      "text/plain": [
       "(0.2, 0.2, 0.2)"
      ]
     },
     "metadata": {},
     "output_type": "display_data"
    }
   ],
   "source": [
    "N = 100\n",
    "θ = LinRange(0, 180, N)\n",
    "\n",
    "wavelength = 0.15418  # CuKα radiation in nm\n",
    "#wavelength = 0.18125  # \n",
    "U, V, W = 0.2, 0.2, 0.2"
   ]
  },
  {
   "attachments": {},
   "cell_type": "markdown",
   "metadata": {},
   "source": [
    "#Simple Cubic\n",
    "In simple cubic lattince, all Miller indices are allowed"
   ]
  },
  {
   "cell_type": "code",
   "execution_count": 100,
   "metadata": {},
   "outputs": [
    {
     "data": {
      "text/plain": [
       "124-element Vector{Vector{Int64}}:\n",
       " [-2, -2, -2]\n",
       " [-2, -2, -1]\n",
       " [-2, -2, 0]\n",
       " [-2, -2, 1]\n",
       " [-2, -2, 2]\n",
       " [-2, -1, -2]\n",
       " [-2, -1, -1]\n",
       " [-2, -1, 0]\n",
       " [-2, -1, 1]\n",
       " [-2, -1, 2]\n",
       " ⋮\n",
       " [2, 1, -1]\n",
       " [2, 1, 0]\n",
       " [2, 1, 1]\n",
       " [2, 1, 2]\n",
       " [2, 2, -2]\n",
       " [2, 2, -1]\n",
       " [2, 2, 0]\n",
       " [2, 2, 1]\n",
       " [2, 2, 2]"
      ]
     },
     "metadata": {},
     "output_type": "display_data"
    }
   ],
   "source": [
    "indices = [[h,k,l] for h=-2:2 for k=-2:2 for l=-2:2 if [h,k,l]!=[0,0,0]]"
   ]
  },
  {
   "cell_type": "code",
   "execution_count": 30,
   "metadata": {},
   "outputs": [
    {
     "data": {
      "text/plain": [
       "bragg_angels (generic function with 1 method)"
      ]
     },
     "metadata": {},
     "output_type": "display_data"
    }
   ],
   "source": [
    "function bragg_angels(wavelength, d_spacings)\n",
    "    sinθ = wavelength ./ (2*d_spacings)\n",
    "    sinθ_cleand = [item for item in sinθ if abs(sin2θ)<=1]  # removing values outside (-1,1)\n",
    "    return 2 * (180/π) * asin(sinθ_cleaned)  # *2 for 2θ  \n",
    "end"
   ]
  },
  {
   "cell_type": "code",
   "execution_count": 29,
   "metadata": {},
   "outputs": [
    {
     "data": {
      "text/plain": [
       "4-element Vector{Float64}:\n",
       " 0.25\n",
       " 0.5\n",
       " 0.75\n",
       " 1.0"
      ]
     },
     "metadata": {},
     "output_type": "display_data"
    }
   ],
   "source": [
    "a = 1, 2, 3, 4, 5, 6, 7\n",
    "b = a ./ 4\n",
    "c = [item for item in b if abs(item)<=1]\n",
    "#d = asin.()"
   ]
  },
  {
   "cell_type": "code",
   "execution_count": 14,
   "metadata": {},
   "outputs": [
    {
     "data": {
      "text/plain": [
       "1×3 Matrix{Float64}:\n",
       " 0.841471  0.909297  0.14112"
      ]
     },
     "metadata": {},
     "output_type": "display_data"
    }
   ],
   "source": [
    "sin.([1 2 3])"
   ]
  }
 ],
 "metadata": {
  "kernelspec": {
   "display_name": "Julia 1.8.5",
   "language": "julia",
   "name": "julia-1.8"
  },
  "language_info": {
   "file_extension": ".jl",
   "mimetype": "application/julia",
   "name": "julia",
   "version": "1.8.5"
  },
  "orig_nbformat": 4
 },
 "nbformat": 4,
 "nbformat_minor": 2
}
