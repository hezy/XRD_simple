{
 "cells": [
  {
   "cell_type": "code",
   "execution_count": null,
   "metadata": {},
   "outputs": [],
   "source": [
    "using SymPy"
   ]
  },
  {
   "cell_type": "code",
   "execution_count": null,
   "metadata": {},
   "outputs": [],
   "source": [
    "@vars x "
   ]
  },
  {
   "cell_type": "code",
   "execution_count": null,
   "metadata": {},
   "outputs": [],
   "source": [
    "\n",
    "γ = symbols(\"γ\", real=true, positive=true)\n"
   ]
  },
  {
   "cell_type": "code",
   "execution_count": null,
   "metadata": {},
   "outputs": [],
   "source": [
    "σ = symbols(\"σ\", real=true, positive=true)"
   ]
  },
  {
   "cell_type": "code",
   "execution_count": null,
   "metadata": {},
   "outputs": [],
   "source": [
    "function lorentz(x, γ)\n",
    "    # non-normnormalized Lorentzian\n",
    "    return 1/(γ^2 + x^2)\n",
    "end"
   ]
  },
  {
   "cell_type": "code",
   "execution_count": null,
   "metadata": {},
   "outputs": [],
   "source": [
    "function gauss(x, σ)\n",
    "    # non-normalized Gaussian\n",
    "   return exp(-x^2/2σ^2)\n",
    "end"
   ]
  },
  {
   "cell_type": "code",
   "execution_count": null,
   "metadata": {},
   "outputs": [],
   "source": [
    "println(\"Finding the norm of Lorentzian:\")\n",
    "lorentz_integral = sympy.Integral(lorentz(x,γ), (x, -oo, oo))\n",
    "lorentz_norm = lorentz_integral.doit()\n",
    "println(lorentz_integral, \" = \", lorentz_norm)\n",
    "#println(Eq(lorentz_integral, lorents_norm ))\n",
    "println()"
   ]
  },
  {
   "cell_type": "code",
   "execution_count": null,
   "metadata": {},
   "outputs": [],
   "source": [
    "println(\"Calculating the half width at half maximum (hwhm) of Lorenzian:\")\n",
    "lorentz_max = lorentz(0, γ)\n",
    "lorentz_hwhm = Eq(lorentz(x, γ), 1//2*lorentz_max)\n",
    "println(lorentz_hwhm)\n",
    "x_half_max_lorentz = solve(lorentz_hwhm, x)\n",
    "println(\"x at half max = \", x_half_max_lorentz)\n",
    "println()"
   ]
  },
  {
   "cell_type": "code",
   "execution_count": null,
   "metadata": {},
   "outputs": [],
   "source": [
    "println(\"Finding the norm of Gaussian:\")\n",
    "gauss_integral = sympy.Integral(gauss(x,σ), (x, -oo, oo))\n",
    "gauss_norm = gauss_integral.doit()\n",
    "println(gauss_integral, \" = \", gauss_norm)\n",
    "#println(Eq(gauss_integral, gauss_norm))\n",
    "println()"
   ]
  },
  {
   "cell_type": "code",
   "execution_count": null,
   "metadata": {},
   "outputs": [],
   "source": [
    "println(\"Calculating the half width at half maximum (hwhm) of Gaussian:\")\n",
    "gauss_max = gauss(0, σ)\n",
    "gauss_hwhm = Eq(gauss(x, σ), (1//2)*gauss_max)\n",
    "println(gauss_hwhm)\n",
    "solve(gauss_hwhm, x)\n",
    "x_half_max_gauss = solve(gauss_hwhm, x)\n",
    "println(\"x at half max = \", x_half_max_gauss)"
   ]
  }
 ],
 "metadata": {
  "kernelspec": {
   "display_name": "Julia 1.8.5",
   "language": "julia",
   "name": "julia-1.8"
  },
  "language_info": {
   "file_extension": ".jl",
   "mimetype": "application/julia",
   "name": "julia",
   "version": "1.8.5"
  },
  "orig_nbformat": 4,
  "vscode": {
   "interpreter": {
    "hash": "e7dcbe0a3ba33df212a58217d5216c6b91e63efd6156f57d0c8ac9d14a3fc559"
   }
  }
 },
 "nbformat": 4,
 "nbformat_minor": 2
}
