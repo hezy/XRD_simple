{
 "cells": [
  {
   "cell_type": "code",
   "execution_count": null,
   "id": "53fe0aff-3c64-4712-a5ce-2495136dcf73",
   "metadata": {},
   "outputs": [],
   "source": []
  }
 ],
 "metadata": {
  "kernelspec": {
   "display_name": "",
   "name": ""
  },
  "language_info": {
   "name": ""
  }
 },
 "nbformat": 4,
 "nbformat_minor": 5
}
