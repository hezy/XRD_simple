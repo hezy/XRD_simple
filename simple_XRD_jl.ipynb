{
 "cells": [
  {
   "attachments": {},
   "cell_type": "markdown",
   "metadata": {},
   "source": [
    "# simple_XRD_jl.pynb\n",
    "### by Hezy Amiel\n",
    "\n",
    "January 2023\n",
    "\n",
    "Julia 1.8.5"
   ]
  },
  {
   "cell_type": "code",
   "execution_count": null,
   "metadata": {},
   "outputs": [],
   "source": [
    "using Plots, SpecialFunctions, Random, Distributions, DataFrames, CSV"
   ]
  },
  {
   "cell_type": "code",
   "execution_count": null,
   "metadata": {},
   "outputs": [],
   "source": [
    "Random.seed!(347) # Setting the seed"
   ]
  },
  {
   "attachments": {},
   "cell_type": "markdown",
   "metadata": {},
   "source": [
    "## Functions"
   ]
  },
  {
   "cell_type": "code",
   "execution_count": null,
   "metadata": {},
   "outputs": [],
   "source": [
    "function Gaussian(x, fwhm)\n",
    "    σ = fwhm/(2√(2log(2)))\n",
    "    return @. 1/√(2π)/σ * exp(-x^2/2σ^2)\n",
    "end"
   ]
  },
  {
   "cell_type": "code",
   "execution_count": null,
   "metadata": {},
   "outputs": [],
   "source": [
    "function Lorentzian(x, fwhm)\n",
    "    γ = fwhm / 2\n",
    "    return @. (γ/pi) / (x^2 + γ^2)\n",
    "end"
   ]
  },
  {
   "cell_type": "code",
   "execution_count": null,
   "metadata": {},
   "outputs": [],
   "source": [
    "function Pseudo_Voigt(x, fwhm, n)\n",
    "\treturn n * Lorentzian(x, fwhm) + (1 - n) * Gaussian(x, fwhm)\n",
    "end"
   ]
  },
  {
   "cell_type": "code",
   "execution_count": null,
   "metadata": {},
   "outputs": [],
   "source": [
    "function Voigt(x, fwhm_L, fwhm_G)\n",
    "    γ = fwhm_L / 2\n",
    "    σ = fwhm_G / (2√(2log(2)))\n",
    "    z = @. -im * (x + im * γ) / (√2 * σ)\n",
    "    return @. real(erfcx(z)) / (√(2pi) * σ)\n",
    "end"
   ]
  },
  {
   "cell_type": "code",
   "execution_count": null,
   "metadata": {},
   "outputs": [],
   "source": [
    "function peak(θ, θ₀, A, w, n)\n",
    "    return @. A * Pseudo_Voigt(θ-θ₀, w, n)\n",
    "end"
   ]
  },
  {
   "cell_type": "code",
   "execution_count": null,
   "metadata": {},
   "outputs": [],
   "source": [
    "function peaks_width(two_θ, U, V, W)\n",
    "    return @. √(U * tand(two_θ/2)^2 + V * tand(two_θ/2) + W)\n",
    "end"
   ]
  },
  {
   "cell_type": "code",
   "execution_count": null,
   "metadata": {},
   "outputs": [],
   "source": [
    "function bragg_angels(wavelength, d_spacings)\n",
    "    sinθ = wavelength ./ (2*d_spacings)\n",
    "    sinθ_cleaned = [item for item in sinθ if abs(item)<=1]  # removing values outside (-1,1), is this good???\n",
    "    return 2 * (180/π) * asin.(sinθ_cleaned)  # *2 for 2θ  \n",
    "end"
   ]
  },
  {
   "cell_type": "code",
   "execution_count": null,
   "metadata": {},
   "outputs": [],
   "source": [
    "function d_list(indices, a)\n",
    "    return a ./ .√(sum(indices.^2, dims=2))\n",
    "end"
   ]
  },
  {
   "cell_type": "code",
   "execution_count": null,
   "metadata": {},
   "outputs": [],
   "source": [
    "function sum_peaks(θ, two_θ_list, U, V, W)\n",
    "    y = zeros(size(θ))\n",
    "    for item in two_θ_list\n",
    "        y = y + peak(θ, item, 1, peaks_width(θ, U, V, W), 0.5)\n",
    "    end\n",
    "    return y\n",
    "end\n"
   ]
  },
  {
   "cell_type": "code",
   "execution_count": null,
   "metadata": {},
   "outputs": [],
   "source": [
    "function intensity_vs_angle(θ, indices, λ, a, U, V, W)\n",
    "    indices = (reduce(hcat, indices))'\n",
    "    two_θ_list = bragg_angels(λ, d_list(indices, a));\n",
    "    y = sum_peaks(θ, two_θ_list, U, V, W)\n",
    "    return y\n",
    "end"
   ]
  },
  {
   "cell_type": "code",
   "execution_count": null,
   "metadata": {},
   "outputs": [],
   "source": [
    "function plot_it(θ, y, Title)\n",
    "    p = plot(θ, y)\n",
    "    title!(Title)\n",
    "    xlabel!(raw\"2θ (deg)\")\n",
    "    ylabel!(raw\"Intensity (arb.)\")\n",
    "    return p\n",
    "end"
   ]
  },
  {
   "cell_type": "code",
   "execution_count": null,
   "metadata": {},
   "outputs": [],
   "source": [
    "function Miller_indices(cell_type, min, max)\n",
    "    if cell_type == \"SC\"\n",
    "        # In simple cubic lattince, all Miller indices are allowed\n",
    "        return [\n",
    "            [h, k, l] for h = min:max for k = min:max for\n",
    "            l = min:max if [h, k, l] != [0, 0, 0]\n",
    "        ]\n",
    "    elseif cell_type == \"BCC\"\n",
    "        # In body centerd cubic lattice, only indices with h+k+l=even are allowed\n",
    "        return [\n",
    "            [h, k, l] for h = min:max for k = min:max for\n",
    "            l = min:max if iseven(h + k + l) && [h, k, l] != [0, 0, 0]\n",
    "        ]\n",
    "    elseif cell_type == \"FCC\"\n",
    "        # In face centered cubic lattice, h,k,l must all be either odd or even\n",
    "        return [\n",
    "            [h, k, l] for h = min:max for k = min:max for l = min:max if\n",
    "            ((iseven(h) && iseven(k) && iseven(l)) || (isodd(h) && isodd(k) && isodd(l))) &&\n",
    "            [h, k, l] != [0, 0, 0]\n",
    "        ]\n",
    "    else\n",
    "        return [0, 0, 0]\n",
    "    end\n",
    "end"
   ]
  },
  {
   "cell_type": "code",
   "execution_count": null,
   "metadata": {},
   "outputs": [],
   "source": [
    "function background(θ)\n",
    "    return @. 2 + θ*(360-θ)/15000\n",
    "end"
   ]
  },
  {
   "attachments": {},
   "cell_type": "markdown",
   "metadata": {},
   "source": [
    "## General Settings"
   ]
  },
  {
   "cell_type": "code",
   "execution_count": null,
   "metadata": {},
   "outputs": [],
   "source": [
    "N = 1000   \n",
    "θ = collect(LinRange(0, 180, N))\n",
    "y = zeros(N)\n",
    "λ = 0.15418  # CuKα radiation in nm\n",
    "U, V, W = 0.2, 0.2, 0.2"
   ]
  },
  {
   "attachments": {},
   "cell_type": "markdown",
   "metadata": {},
   "source": [
    "### Lattice parameter for some elements (in Å)\n",
    "\n",
    "\n",
    "#### SC lattice:\n",
    "\n",
    "Po  0.3352\n",
    "\n",
    "\n",
    "#### BCC lattice:\n",
    "\n",
    "Fe  0.2856   ;   Mo  0.3142   ;   W   0.3155   ;   V   0.30399  ;   Nb  0.33008  ;   Ta  0.33058\n",
    "\n",
    "\n",
    "#### FCC lattice:\n",
    "\n",
    "Al  0.4046   ;   Ni  0.3499   ;   Cu  0.3594   ;   Pd  0.3859   ;   Ag  0.4079   ;   Pt  0.4920   ;   Au  0.4065   ;   Pb  0.4920\n",
    "\n",
    "\n",
    "from https://en.wikipedia.org/wiki/Lattice_constant"
   ]
  },
  {
   "attachments": {},
   "cell_type": "markdown",
   "metadata": {},
   "source": [
    "## Simple Cubic"
   ]
  },
  {
   "cell_type": "code",
   "execution_count": null,
   "metadata": {},
   "outputs": [],
   "source": [
    "\"\"\"\n",
    "Lattice parameter for SC Polonium (α-Po)\n",
    "from https://en.wikipedia.org/wiki/Polonium \n",
    "\"\"\"\n",
    "a_SC = 0.3352\n",
    "\n",
    "indices_SC = Miller_indices(\"SC\", -5, 5)\n",
    "\n",
    "y_SC =\n",
    "    (background(θ) + intensity_vs_angle(θ, indices_SC, λ, a_SC, U, V, W)) .*\n",
    "    rand(Normal(1, 0.1), N)\n",
    "\n",
    "plot_it(θ, y_SC, \"XRD - SC\")"
   ]
  },
  {
   "attachments": {},
   "cell_type": "markdown",
   "metadata": {},
   "source": [
    "## Body Centered Cubic"
   ]
  },
  {
   "cell_type": "code",
   "execution_count": null,
   "metadata": {},
   "outputs": [],
   "source": [
    "\"\"\"\n",
    "Lattice parameter for BCC Nb\n",
    "\"\"\"\n",
    "a_BCC = 0.33008\n",
    "\n",
    "indices_BCC = Miller_indices(\"BCC\", -5, 5)\n",
    "\n",
    "y_BCC =\n",
    "    (background(θ) + intensity_vs_angle(θ, indices_BCC, λ, a_BCC, U, V, W)) .*\n",
    "    rand(Normal(1, 0.1), N)\n",
    "    \n",
    "plot_it(θ, y_BCC, \"XRD - BCC\")"
   ]
  },
  {
   "attachments": {},
   "cell_type": "markdown",
   "metadata": {},
   "source": [
    "## Face Centered Cubic"
   ]
  },
  {
   "cell_type": "code",
   "execution_count": null,
   "metadata": {},
   "outputs": [],
   "source": [
    "\"\"\"\n",
    "Lattice parameter for FCC Cu\n",
    "\"\"\"\n",
    "a_FCC = 0.3594 \n",
    "\n",
    "indices_FCC = Miller_indices(\"FCC\", -5, 5)\n",
    "                \n",
    "y_FCC =\n",
    "    (background(θ) + intensity_vs_angle(θ, indices_FCC, λ, a_FCC, U, V, W)) .*\n",
    "    rand(Normal(1, 0.1), N)\n",
    "\n",
    "plot_it(θ, y_FCC, \"XRD - FCC\")"
   ]
  },
  {
   "cell_type": "code",
   "execution_count": null,
   "metadata": {},
   "outputs": [],
   "source": [
    "df = DataFrame(angle=θ, SC=y_SC, BCC=y_BCC, FCC=y_FCC)"
   ]
  },
  {
   "cell_type": "code",
   "execution_count": null,
   "metadata": {},
   "outputs": [],
   "source": [
    "CSV.write(\"XRD_results.csv\", df)"
   ]
  }
 ],
 "metadata": {
  "kernelspec": {
   "display_name": "Julia 1.8.5",
   "language": "julia",
   "name": "julia-1.8"
  },
  "language_info": {
   "file_extension": ".jl",
   "mimetype": "application/julia",
   "name": "julia",
   "version": "1.8.5"
  },
  "orig_nbformat": 4
 },
 "nbformat": 4,
 "nbformat_minor": 2
}
