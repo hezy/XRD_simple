{
 "cells": [
  {
   "attachments": {},
   "cell_type": "markdown",
   "metadata": {},
   "source": [
    "simple_XRD.jl\n",
    "by Hezy Amiel\n",
    "January 2023\n",
    "Julia 1.8.5"
   ]
  },
  {
   "cell_type": "code",
   "execution_count": 89,
   "metadata": {},
   "outputs": [],
   "source": [
    "using Plots\n",
    "using SpecialFunctions"
   ]
  },
  {
   "cell_type": "code",
   "execution_count": 90,
   "metadata": {},
   "outputs": [
    {
     "data": {
      "text/plain": [
       "Gaussian (generic function with 1 method)"
      ]
     },
     "metadata": {},
     "output_type": "display_data"
    }
   ],
   "source": [
    "function Gaussian(x, fwhm)\n",
    "    σ = fwhm/(2√(2log(2)))\n",
    "    return @. 1/√(2π)/σ * exp(-x^2/2σ^2)\n",
    "end"
   ]
  },
  {
   "cell_type": "code",
   "execution_count": 91,
   "metadata": {},
   "outputs": [
    {
     "data": {
      "text/plain": [
       "Lorentzian (generic function with 1 method)"
      ]
     },
     "metadata": {},
     "output_type": "display_data"
    }
   ],
   "source": [
    "function Lorentzian(x, fwhm)\n",
    "    γ = fwhm / 2\n",
    "    return @. (γ/pi) / (x^2 + γ^2)\n",
    "end"
   ]
  },
  {
   "cell_type": "code",
   "execution_count": 98,
   "metadata": {},
   "outputs": [
    {
     "data": {
      "text/plain": [
       "Pseudo_Voigt (generic function with 1 method)"
      ]
     },
     "metadata": {},
     "output_type": "display_data"
    }
   ],
   "source": [
    "function Pseudo_Voigt(x, fwhm, n)\n",
    "\treturn n * Lorentzian(x, fwhm) + (1 - n) * Gaussian(x, fwhm)\n",
    "end"
   ]
  },
  {
   "cell_type": "code",
   "execution_count": 93,
   "metadata": {},
   "outputs": [
    {
     "data": {
      "text/plain": [
       "Voigt (generic function with 1 method)"
      ]
     },
     "metadata": {},
     "output_type": "display_data"
    }
   ],
   "source": [
    "function Voigt(x, fwhm_L, fwhm_G)\n",
    "    γ = fwhm_L/2\n",
    "    σ = fwhm_G/(2√(2log(2)))\n",
    "    z = @. -im * (x + im * γ) / (√2 * σ)\n",
    "    return @. real(erfcx(z)) / (√(2pi) * σ)\n",
    "end"
   ]
  },
  {
   "cell_type": "code",
   "execution_count": 94,
   "metadata": {},
   "outputs": [
    {
     "data": {
      "text/plain": [
       "find_d (generic function with 1 method)"
      ]
     },
     "metadata": {},
     "output_type": "display_data"
    }
   ],
   "source": [
    "function find_d(indices, a)\n",
    "    return a./.√(sum(indices.^2, dims=2))\n",
    "end"
   ]
  },
  {
   "cell_type": "code",
   "execution_count": 96,
   "metadata": {},
   "outputs": [
    {
     "data": {
      "text/plain": [
       "(0.2, 0.2, 0.2)"
      ]
     },
     "metadata": {},
     "output_type": "display_data"
    }
   ],
   "source": [
    "N = 100\n",
    "θ = LinRange(0, 180, N)\n",
    "\n",
    "wavelength = 0.15418  # CuKα radiation in nm\n",
    "#wavelength = 0.18125  # \n",
    "U, V, W = 0.2, 0.2, 0.2"
   ]
  },
  {
   "cell_type": "code",
   "execution_count": 99,
   "metadata": {},
   "outputs": [
    {
     "data": {
      "text/plain": [
       "100-element Vector{Float64}:\n",
       " 0.7899177049600079\n",
       " 0.023375411437285096\n",
       " 0.0055131659151482215\n",
       " 0.0024260532000792063\n",
       " 0.0013599864296867969\n",
       " 0.0008690197002484709\n",
       " 0.0006029705490221322\n",
       " 0.000442770981633195\n",
       " 0.00033888349684810796\n",
       " 0.0002676986240011588\n",
       " ⋮\n",
       " 2.6162478594551147e-6\n",
       " 2.5596815443442577e-6\n",
       " 2.5049301404434954e-6\n",
       " 2.451916828757901e-6\n",
       " 2.400568812065984e-6\n",
       " 2.3508170648729103e-6\n",
       " 2.3025961013148577e-6\n",
       " 2.25584375955663e-6\n",
       " 2.2105010013565085e-6"
      ]
     },
     "metadata": {},
     "output_type": "display_data"
    }
   ],
   "source": [
    "y1 = Lorentzian(θ, 1)\n",
    "y2 = Gaussian(θ, 1)\n",
    "y3 = Pseudo_Voigt(θ, 1, 0.5)\n",
    "y4 = Voigt(θ, 0.45, 0.72)"
   ]
  },
  {
   "attachments": {},
   "cell_type": "markdown",
   "metadata": {},
   "source": [
    "#Simple Cubic\n",
    "In simple cubic lattince, all Miller indices are allowed"
   ]
  },
  {
   "cell_type": "code",
   "execution_count": 100,
   "metadata": {},
   "outputs": [
    {
     "data": {
      "text/plain": [
       "124-element Vector{Vector{Int64}}:\n",
       " [-2, -2, -2]\n",
       " [-2, -2, -1]\n",
       " [-2, -2, 0]\n",
       " [-2, -2, 1]\n",
       " [-2, -2, 2]\n",
       " [-2, -1, -2]\n",
       " [-2, -1, -1]\n",
       " [-2, -1, 0]\n",
       " [-2, -1, 1]\n",
       " [-2, -1, 2]\n",
       " ⋮\n",
       " [2, 1, -1]\n",
       " [2, 1, 0]\n",
       " [2, 1, 1]\n",
       " [2, 1, 2]\n",
       " [2, 2, -2]\n",
       " [2, 2, -1]\n",
       " [2, 2, 0]\n",
       " [2, 2, 1]\n",
       " [2, 2, 2]"
      ]
     },
     "metadata": {},
     "output_type": "display_data"
    }
   ],
   "source": [
    "indices = [[h,k,l] for h=-2:2 for k=-2:2 for l=-2:2 if [h,k,l]!=[0,0,0]]"
   ]
  }
 ],
 "metadata": {
  "kernelspec": {
   "display_name": "Julia 1.8.5",
   "language": "julia",
   "name": "julia-1.8"
  },
  "language_info": {
   "file_extension": ".jl",
   "mimetype": "application/julia",
   "name": "julia",
   "version": "1.8.5"
  },
  "orig_nbformat": 4
 },
 "nbformat": 4,
 "nbformat_minor": 2
}
