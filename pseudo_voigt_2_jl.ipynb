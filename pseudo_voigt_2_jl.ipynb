{
 "cells": [
  {
   "attachments": {},
   "cell_type": "markdown",
   "id": "a8ded402-40f9-4234-b906-8cde079b7e8f",
   "metadata": {},
   "source": [
    "# pseudo_voigt_jl.ipynb\n",
    "\n",
    "by Hezy Amiel\n",
    "\n",
    "January 2023\n",
    "\n",
    "Julia 1.8.5\n",
    "\n",
    "https://en.m.wikipedia.org/wiki/Voigt_profile\n",
    "http://journals.iucr.org/j/issues/1997/04/00/gl0484/gl0484.pdf\n",
    "http://journals.iucr.org/j/issues/2000/06/00/nt0146/nt0146.pdf\n",
    "https://www.onlinelibrary.wiley.com/doi/epdf/10.1002/sia.5521"
   ]
  },
  {
   "cell_type": "code",
   "execution_count": null,
   "id": "5cf61c67",
   "metadata": {},
   "outputs": [],
   "source": [
    "using Plots\n",
    "using SpecialFunctions"
   ]
  },
  {
   "cell_type": "code",
   "execution_count": null,
   "id": "92adba59-b5d9-4b27-a032-3c0a5c85744f",
   "metadata": {},
   "outputs": [],
   "source": [
    "x = range(start = -3, stop = 3, step = 0.01)"
   ]
  },
  {
   "cell_type": "code",
   "execution_count": null,
   "id": "5d93df18-c430-4460-95c2-0513fe88d5c5",
   "metadata": {},
   "outputs": [],
   "source": [
    "function Lorentzian(x, fwhm)\n",
    "    γ = fwhm / 2\n",
    "    return @. (γ / pi) / (x^2 + γ^2)\n",
    "end"
   ]
  },
  {
   "cell_type": "code",
   "execution_count": null,
   "id": "940896a5-3c40-4179-b8a1-0da7cddb6e01",
   "metadata": {},
   "outputs": [],
   "source": [
    "function Gaussian(x, fwhm)\n",
    "    σ = fwhm / (2√(2log(2)))\n",
    "    return @. 1 / √(2π) / σ * exp(-x^2 / 2σ^2)\n",
    "end"
   ]
  },
  {
   "cell_type": "code",
   "execution_count": null,
   "id": "22634c3e-7451-49dd-b8d2-98d3cdfa4791",
   "metadata": {},
   "outputs": [],
   "source": [
    "function pseudo_Voigt(x, fwhm, n)\n",
    "    return n * Lorentzian(x, fwhm) + (1 - n) * Gaussian(x, fwhm)\n",
    "end"
   ]
  },
  {
   "cell_type": "code",
   "execution_count": null,
   "id": "b1854833-669e-4d6b-a0ee-ebe4685c4f35",
   "metadata": {},
   "outputs": [],
   "source": [
    "function Voigt(x, fwhm_L, fwhm_G)\n",
    "    γ = fwhm_L / 2\n",
    "    σ = fwhm_G / (2√(2log(2)))\n",
    "    z = @. -im * (x + im * γ) / (√2 * σ)\n",
    "    return @. real(erfcx(z)) / (√(2pi) * σ)\n",
    "end"
   ]
  },
  {
   "cell_type": "code",
   "execution_count": null,
   "id": "763807e1-77bc-472c-af68-c50eaf831fab",
   "metadata": {},
   "outputs": [],
   "source": [
    "y1 = Lorentzian(x, 1)\n",
    "y2 = Gaussian(x, 1)\n",
    "y3 = pseudo_Voigt(x, 1, 0.5)\n",
    "y4 = Voigt(x, 0.45, 0.72)"
   ]
  },
  {
   "cell_type": "code",
   "execution_count": null,
   "id": "ad4d9b1f-3c56-45d0-bf5e-798abf87bd70",
   "metadata": {},
   "outputs": [],
   "source": [
    "p = plot(x, [y1 y2 y3 y4], label = [\"Lorentzian\" \"Gaussian\" \"Pseudo Voigt\" \"Voigt\"])\n",
    "title!(\"peak functions\")\n",
    "xlabel!(raw\"x\")\n",
    "ylabel!(raw\"y\")\n"
   ]
  }
 ],
 "metadata": {
  "kernelspec": {
   "display_name": "Julia 1.8.5",
   "language": "julia",
   "name": "julia-1.8"
  },
  "language_info": {
   "file_extension": ".jl",
   "mimetype": "application/julia",
   "name": "julia",
   "version": "1.8.5"
  }
 },
 "nbformat": 4,
 "nbformat_minor": 5
}
