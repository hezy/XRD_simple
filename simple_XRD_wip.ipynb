{
 "cells": [
  {
   "cell_type": "code",
   "execution_count": 1,
   "id": "1d4bc921-8678-4446-b801-f88ab80ad464",
   "metadata": {},
   "outputs": [],
   "source": [
    "import numpy as np\n",
    "import matplotlib.pyplot as plt"
   ]
  },
  {
   "cell_type": "code",
   "execution_count": 2,
   "id": "a797dd20-5c6b-402b-9d95-6599439fc826",
   "metadata": {},
   "outputs": [],
   "source": [
    "def lorentz(x, wL):\n",
    "    # Lorentz with max=1 and w=FWHM: \n",
    "    gamma = wL\n",
    "    return 1 / (1 + np.square(x/gamma)) "
   ]
  },
  {
   "cell_type": "code",
   "execution_count": 3,
   "id": "bd6ebbf8-6fda-4ab7-8a60-1f3ebc1dbb50",
   "metadata": {},
   "outputs": [],
   "source": [
    "def gauss(x, wG):\n",
    "    # Gauss with max=1 and w=FWHM\n",
    "    sigma = wG/np.sqrt(2*np.log(2))\n",
    "    return np.exp(- x**2 / (2* sigma**2))"
   ]
  },
  {
   "cell_type": "code",
   "execution_count": 4,
   "id": "9bb1f2e7-1679-45e6-970d-60553cc33cbe",
   "metadata": {},
   "outputs": [],
   "source": [
    "def voigt(x, wL, wG):\n",
    "    gamma = wL\n",
    "    sigma = wG/np.sqrt(2*np.log(2))\n",
    "    z = (x + 1j*gamma)/np.sqrt(2)/sigma\n",
    "    return np.sqrt(2*np.pi) * np.real(wofz(z))/np.sqrt(2*np.pi)/sigma\n",
    "    # normolized Voigt (integral = 1): c * np.real(wofz((x + 1j*gamma)/(sigma * np.sqrt(2)))) / (sigma * np.sqrt(2*np.pi))\n",
    "    # for Lorentz sigma=0, gamma=1, c=1\n",
    "    # for Gauss sigma=1, gamma=0, c=1"
   ]
  },
  {
   "cell_type": "code",
   "execution_count": 5,
   "id": "8ed4dc63-94e1-4a71-ad2b-a95a23217599",
   "metadata": {},
   "outputs": [],
   "source": [
    "def pseudo_voigt(x, w, n):\n",
    "    # pseudo-voigt with max=1 and w=FWHM:\n",
    "    return n * gauss(x, w) + (1-n) * lorentz(x,w)"
   ]
  },
  {
   "cell_type": "code",
   "execution_count": 6,
   "id": "5448cf6d-85f8-40d9-b818-35ffb58c924f",
   "metadata": {},
   "outputs": [],
   "source": [
    "def peak(x, x0, A, w, n):\n",
    "    return A * pseudo_voigt(x-x0, w, n)"
   ]
  },
  {
   "cell_type": "code",
   "execution_count": 7,
   "id": "9480a14f-ae6b-4731-978d-8eca29b3593f",
   "metadata": {},
   "outputs": [],
   "source": [
    "def peaks_width(theta, U, V, W):\n",
    "    theta_rad = theta*np.pi/180\n",
    "    return np.sqrt( U*np.tan(theta_rad/2)**2 + V*np.tan(theta_rad/2) + W)"
   ]
  },
  {
   "cell_type": "code",
   "execution_count": 8,
   "id": "4d99620e-65a9-4992-8e16-0a38fb686683",
   "metadata": {},
   "outputs": [],
   "source": [
    "def intensity(theta_space, peaks_positions, peaks_width):\n",
    "    y = np.zeros(500)\n",
    "    for n in range(9):\n",
    "        #print(n, peaks_position[n], peaks_width[n])\n",
    "        y = y + peak(theta_space, peaks_position[n], 1, peaks_width[n], 0.5)\n",
    "    return y"
   ]
  },
  {
   "cell_type": "code",
   "execution_count": 9,
   "id": "de2c9eaa-4727-4758-8ff4-cf423f252e48",
   "metadata": {},
   "outputs": [],
   "source": [
    "N = 500\n",
    "theta_space = np.linspace (0, 120, N)\n",
    "peaks_position = np.array([10.0,20.0,30.0,40.0,50.0,60.0,70.0,80.0,90.0])\n",
    "U, V, W = 0.2, 0.1, 0.05\n",
    "angular_intensity = intensity(theta_space, peaks_position, peaks_width(peaks_position, U, V, W))\n",
    "#print(angular_intensity)"
   ]
  },
  {
   "cell_type": "code",
   "execution_count": 10,
   "id": "3073d54d-8907-4a9b-88c6-5e4da6892c18",
   "metadata": {},
   "outputs": [],
   "source": [
    "def make_graph (x, y):\n",
    "    fig1, ax = plt.subplots(figsize=(14, 8))\n",
    "    ax.grid(visible=True, which='both', axis='both')\n",
    "    ax.minorticks_on()\n",
    "    ax.set_title(\"XRD\", fontsize=16)\n",
    "    ax.set_xlabel(r\"\\theta\", fontsize=14)\n",
    "    #ax.set_xlim()\n",
    "    ax.set_ylabel(r\"Intensity\", fontsize=14)\n",
    "    #ax.set_ylim()\n",
    "    ax.plot(x,y, '.r', label='experiment')\n",
    "    ax.plot(x,y, '-b', label='theory')\n",
    "    ax.legend()"
   ]
  },
  {
   "cell_type": "code",
   "execution_count": 11,
   "id": "d85662e0-780d-426d-b455-6a7e86b7a600",
   "metadata": {},
   "outputs": [
    {
     "name": "stdout",
     "output_type": "stream",
     "text": [
      "[(0, 0, 1), (0, 0, 2), (0, 0, 3), (0, 1, 1), (0, 1, 2), (0, 1, 3), (0, 2, 2), (0, 2, 3), (0, 3, 3), (1, 1, 1), (1, 1, 2), (1, 1, 3), (1, 2, 2), (1, 2, 3), (1, 3, 3), (2, 2, 2), (2, 2, 3), (2, 3, 3), (3, 3, 3)]\n"
     ]
    }
   ],
   "source": [
    "# In simple cubic lattince, all Miller indices are allowed\n",
    "from itertools import combinations_with_replacement\n",
    "sample_list = [0, 1, 2, 3]\n",
    "SC_indices = list(combinations_with_replacement(sample_list, 3))\n",
    "SC_indices.remove((0,0,0))\n",
    "print(SC_indices)"
   ]
  },
  {
   "cell_type": "code",
   "execution_count": 12,
   "id": "39db61bb-6b18-41a9-a73a-2f37854e10df",
   "metadata": {},
   "outputs": [],
   "source": [
    "def find_d(indices_list, a):\n",
    "    miller = np.array(indices_list)\n",
    "    return a/np.sqrt(miller.T[0]**2 + miller.T[1]**2 + miller.T[2]**2)"
   ]
  },
  {
   "cell_type": "code",
   "execution_count": 13,
   "id": "69409ff1-01f8-495a-9af6-68a09f52e50d",
   "metadata": {},
   "outputs": [
    {
     "name": "stdout",
     "output_type": "stream",
     "text": [
      "[1.         0.5        0.33333333 0.70710678 0.4472136  0.31622777\n",
      " 0.35355339 0.2773501  0.23570226 0.57735027 0.40824829 0.30151134\n",
      " 0.33333333 0.26726124 0.22941573 0.28867513 0.24253563 0.21320072\n",
      " 0.19245009]\n"
     ]
    }
   ],
   "source": [
    "d_SC = find_d(SC_indices, 1)\n",
    "print(d_SC)"
   ]
  },
  {
   "cell_type": "code",
   "execution_count": 14,
   "id": "995c6dca-c039-4a95-9883-e73144e82fa6",
   "metadata": {},
   "outputs": [
    {
     "name": "stdout",
     "output_type": "stream",
     "text": [
      "[ 8.62692656 17.45760312 26.74368395 12.24732424 19.59748371 28.31649352\n",
      " 25.10409025 32.74034176 39.5236079  15.05864737 21.55680297 29.83432382\n",
      " 26.74368395 34.14219136 40.83136041 31.30644625 38.20418861 44.71351633\n",
      " 51.20776365]\n"
     ]
    }
   ],
   "source": [
    "l = 0.3\n",
    "theta_SC = 180/np.pi * np.arcsin(l/2/d_SC)\n",
    "print(theta_SC)"
   ]
  },
  {
   "cell_type": "code",
   "execution_count": null,
   "id": "14c33c0c-9f95-4d80-ad85-b75f25e043c7",
   "metadata": {},
   "outputs": [],
   "source": []
  },
  {
   "cell_type": "code",
   "execution_count": 15,
   "id": "4a2c93cb-0a99-400f-9624-db48f0f929dc",
   "metadata": {},
   "outputs": [
    {
     "name": "stdout",
     "output_type": "stream",
     "text": [
      "[(0, 0, 2), (0, 1, 1), (0, 1, 3), (0, 2, 2), (0, 3, 3), (1, 1, 2), (1, 2, 2), (1, 2, 3), (2, 2, 2), (2, 3, 3)]\n"
     ]
    }
   ],
   "source": [
    "# In body centerd cubic lattice, only indices with h+k+l=even are allowed\n",
    "BCC_indices = SC_indices[:]\n",
    "for item in BCC_indices:\n",
    "        if (item[0] + item[1] + item[2]) % 2 != 0:\n",
    "            BCC_indices.remove(item)\n",
    "print(BCC_indices)  "
   ]
  },
  {
   "cell_type": "code",
   "execution_count": 16,
   "id": "e848c3f6-a1ef-4206-bb34-dedc6330e631",
   "metadata": {},
   "outputs": [
    {
     "name": "stdout",
     "output_type": "stream",
     "text": [
      "[0.5        0.70710678 0.31622777 0.35355339 0.23570226 0.40824829\n",
      " 0.33333333 0.26726124 0.28867513 0.21320072]\n"
     ]
    }
   ],
   "source": [
    "d_BCC = find_d(BCC_indices, 1)\n",
    "print(d_BCC)"
   ]
  },
  {
   "cell_type": "code",
   "execution_count": 17,
   "id": "60d500c4-19f1-4940-8255-3e21f6aa23b7",
   "metadata": {},
   "outputs": [
    {
     "name": "stdout",
     "output_type": "stream",
     "text": [
      "[(0, 0, 2), (0, 1, 1), (0, 1, 3), (0, 2, 2), (0, 3, 3), (1, 1, 1), (1, 1, 3), (1, 2, 3), (1, 3, 3), (2, 2, 2), (2, 3, 3), (3, 3, 3)]\n"
     ]
    }
   ],
   "source": [
    "#In face centered cubic lattice, h,k,l must all be either odd or even\n",
    "FCC_indices = SC_indices[:]\n",
    "for item in FCC_indices:\n",
    "        all = \"mixed\"\n",
    "        if (item[0]%2 != 0) and (item[1]%2 != 0) and (item[2]%2 != 0):\n",
    "            all = \"all pair\"\n",
    "        if (item[0]%2 == 0) and (item[1]%2 == 0) and (item[2]%2 == 0):\n",
    "            all = \"all even\"\n",
    "        if all == \"mixed\":\n",
    "            FCC_indices.remove(item)\n",
    "print(FCC_indices)           "
   ]
  },
  {
   "cell_type": "code",
   "execution_count": 18,
   "id": "e21bbe1f-0b09-40a7-8cfe-59ae6c8ea6b1",
   "metadata": {},
   "outputs": [
    {
     "name": "stdout",
     "output_type": "stream",
     "text": [
      "[0.5        0.70710678 0.31622777 0.35355339 0.23570226 0.57735027\n",
      " 0.30151134 0.26726124 0.22941573 0.28867513 0.21320072 0.19245009]\n"
     ]
    }
   ],
   "source": [
    "d_FCC = find_d(FCC_indices, 1)\n",
    "print(d_FCC)"
   ]
  },
  {
   "cell_type": "code",
   "execution_count": null,
   "id": "e2e060de-0ad5-43a3-822d-fe1b334aaf28",
   "metadata": {},
   "outputs": [],
   "source": []
  }
 ],
 "metadata": {
  "kernelspec": {
   "display_name": "Python 3 (ipykernel)",
   "language": "python",
   "name": "python3"
  },
  "language_info": {
   "codemirror_mode": {
    "name": "ipython",
    "version": 3
   },
   "file_extension": ".py",
   "mimetype": "text/x-python",
   "name": "python",
   "nbconvert_exporter": "python",
   "pygments_lexer": "ipython3",
   "version": "3.9.15"
  }
 },
 "nbformat": 4,
 "nbformat_minor": 5
}
