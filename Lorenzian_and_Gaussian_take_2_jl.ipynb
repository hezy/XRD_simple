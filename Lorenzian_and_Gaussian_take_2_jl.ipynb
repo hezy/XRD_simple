{
 "cells": [
  {
   "cell_type": "code",
   "execution_count": 20,
   "metadata": {},
   "outputs": [
    {
     "name": "stderr",
     "output_type": "stream",
     "text": [
      "\u001b[33m\u001b[1m┌ \u001b[22m\u001b[39m\u001b[33m\u001b[1mWarning: \u001b[22m\u001b[39mModule SymbolicUtils with build ID 19228293152768 is missing from the cache.\n",
      "\u001b[33m\u001b[1m│ \u001b[22m\u001b[39mThis may mean SymbolicUtils [d1185830-fcd6-423d-90d6-eec64667417b] does not support precompilation but is imported by a module that does.\n",
      "\u001b[33m\u001b[1m└ \u001b[22m\u001b[39m\u001b[90m@ Base loading.jl:1325\u001b[39m\n"
     ]
    },
    {
     "name": "stderr",
     "output_type": "stream",
     "text": [
      "\u001b[33m\u001b[1m┌ \u001b[22m\u001b[39m\u001b[33m\u001b[1mWarning: \u001b[22m\u001b[39mModule SymbolicUtils with build ID 19228293152768 is missing from the cache.\n",
      "\u001b[33m\u001b[1m│ \u001b[22m\u001b[39mThis may mean SymbolicUtils [d1185830-fcd6-423d-90d6-eec64667417b] does not support precompilation but is imported by a module that does.\n",
      "\u001b[33m\u001b[1m└ \u001b[22m\u001b[39m\u001b[90m@ Base loading.jl:1325\u001b[39m\n"
     ]
    },
    {
     "name": "stderr",
     "output_type": "stream",
     "text": [
      "\u001b[33m\u001b[1m┌ \u001b[22m\u001b[39m\u001b[33m\u001b[1mWarning: \u001b[22m\u001b[39mModule SymbolicUtils with build ID 19228293152768 is missing from the cache.\n",
      "\u001b[33m\u001b[1m│ \u001b[22m\u001b[39mThis may mean SymbolicUtils [d1185830-fcd6-423d-90d6-eec64667417b] does not support precompilation but is imported by a module that does.\n",
      "\u001b[33m\u001b[1m└ \u001b[22m\u001b[39m\u001b[90m@ Base loading.jl:1325\u001b[39m\n"
     ]
    },
    {
     "name": "stderr",
     "output_type": "stream",
     "text": [
      "\u001b[33m\u001b[1m┌ \u001b[22m\u001b[39m\u001b[33m\u001b[1mWarning: \u001b[22m\u001b[39mModule SymbolicUtils with build ID 19228293152768 is missing from the cache.\n",
      "\u001b[33m\u001b[1m│ \u001b[22m\u001b[39mThis may mean SymbolicUtils [d1185830-fcd6-423d-90d6-eec64667417b] does not support precompilation but is imported by a module that does.\n",
      "\u001b[33m\u001b[1m└ \u001b[22m\u001b[39m\u001b[90m@ Base loading.jl:1325\u001b[39m\n"
     ]
    },
    {
     "name": "stderr",
     "output_type": "stream",
     "text": [
      "\u001b[33m\u001b[1m┌ \u001b[22m\u001b[39m\u001b[33m\u001b[1mWarning: \u001b[22m\u001b[39mModule Symbolics with build ID 19248690681504 is missing from the cache.\n",
      "\u001b[33m\u001b[1m│ \u001b[22m\u001b[39mThis may mean Symbolics [0c5d862f-8b57-4792-8d23-62f2024744c7] does not support precompilation but is imported by a module that does.\n",
      "\u001b[33m\u001b[1m└ \u001b[22m\u001b[39m\u001b[90m@ Base loading.jl:1325\u001b[39m\n"
     ]
    },
    {
     "name": "stderr",
     "output_type": "stream",
     "text": [
      "┌ Warning: The variable syntax (u[1:n])(t) is deprecated. Use (u(t))[1:n] instead.\n",
      "│                   The former creates an array of functions, while the latter creates an array valued function.\n",
      "│                   The deprecated syntax will cause an error in the next major release of Symbolics.\n",
      "│                   This change will facilitate better implementation of various features of Symbolics.\n",
      "└ @ Symbolics /home/hezy/.julia/packages/Symbolics/RMmq8/src/variable.jl:130\n",
      "┌ Warning: Type annotations on keyword arguments not currently supported in recipes.\n",
      "│ Type information has been discarded\n",
      "└ @ RecipesBase /home/hezy/.julia/packages/RecipesBase/z10lo/src/RecipesBase.jl:117\n"
     ]
    },
    {
     "ename": "LoadError",
     "evalue": "LoadError: too many parameters for type\nin expression starting at /home/hezy/.julia/packages/SymbolicNumericIntegration/R584M/src/integral.jl:5\nin expression starting at /home/hezy/.julia/packages/SymbolicNumericIntegration/R584M/src/SymbolicNumericIntegration.jl:1",
     "output_type": "error",
     "traceback": [
      "LoadError: too many parameters for type\n",
      "in expression starting at /home/hezy/.julia/packages/SymbolicNumericIntegration/R584M/src/integral.jl:5\n",
      "in expression starting at /home/hezy/.julia/packages/SymbolicNumericIntegration/R584M/src/SymbolicNumericIntegration.jl:1\n",
      "\n",
      "Stacktrace:\n",
      " [1] top-level scope\n",
      "   @ ~/.julia/packages/SymbolicNumericIntegration/R584M/src/integral.jl:5"
     ]
    }
   ],
   "source": [
    "using Symbolics\n",
    "using SymbolicNumericIntegration"
   ]
  },
  {
   "cell_type": "code",
   "execution_count": 13,
   "metadata": {},
   "outputs": [
    {
     "data": {
      "text/plain": [
       "(x, y, z)"
      ]
     },
     "metadata": {},
     "output_type": "display_data"
    }
   ],
   "source": [
    "@vars x y z"
   ]
  },
  {
   "cell_type": "code",
   "execution_count": 15,
   "metadata": {},
   "outputs": [
    {
     "data": {
      "text/latex": [
       "$x^{2} + y z^{4} + \\frac{1}{y}$"
      ],
      "text/plain": [
       " 2      4   1\n",
       "x  + y⋅z  + ─\n",
       "            y"
      ]
     },
     "metadata": {},
     "output_type": "display_data"
    }
   ],
   "source": [
    "f = x^2 + 1/y + z*y*z^3"
   ]
  },
  {
   "cell_type": "code",
   "execution_count": 16,
   "metadata": {},
   "outputs": [
    {
     "data": {
      "text/latex": [
       "$σ$"
      ],
      "text/plain": [
       "σ"
      ]
     },
     "metadata": {},
     "output_type": "display_data"
    }
   ],
   "source": [
    "@vars x \n",
    "γ = symbols(\"γ\", real=true, positive=true)\n",
    "σ = symbols(\"σ\", real=true, positive=true)"
   ]
  },
  {
   "cell_type": "code",
   "execution_count": 18,
   "metadata": {},
   "outputs": [
    {
     "data": {
      "text/plain": [
       "lorentz (generic function with 1 method)"
      ]
     },
     "metadata": {},
     "output_type": "display_data"
    }
   ],
   "source": [
    "function lorentz(x, γ)\n",
    "    # non-normnormalized Lorentzian\n",
    "    return 1/(γ^2 + x^2)\n",
    "end"
   ]
  },
  {
   "cell_type": "code",
   "execution_count": 19,
   "metadata": {},
   "outputs": [
    {
     "data": {
      "text/plain": [
       "gauss (generic function with 1 method)"
      ]
     },
     "metadata": {},
     "output_type": "display_data"
    }
   ],
   "source": [
    "function gauss(x, σ)\n",
    "    # non-normalized Gaussian\n",
    "   return exp(-x^2/2σ^2)\n",
    "end"
   ]
  },
  {
   "cell_type": "code",
   "execution_count": null,
   "metadata": {},
   "outputs": [],
   "source": [
    "println(\"Finding the norm of Lorentzian:\")\n",
    "lorentz_integral = sympy.Integral(lorentz(x,γ), (x, -oo, oo))\n",
    "lorentz_norm = lorentz_integral.doit()\n",
    "println(lorentz_integral, \" = \", lorentz_norm)\n",
    "#println(Eq(lorentz_integral, lorents_norm ))\n",
    "println()"
   ]
  },
  {
   "cell_type": "code",
   "execution_count": 21,
   "metadata": {},
   "outputs": [
    {
     "data": {
      "text/latex": [
       "$\\frac{3 x^{4}}{4} + x^{2} - 5 x$"
      ],
      "text/plain": [
       "   4           \n",
       "3⋅x     2      \n",
       "──── + x  - 5⋅x\n",
       " 4             "
      ]
     },
     "metadata": {},
     "output_type": "display_data"
    }
   ],
   "source": [
    "integrate(3x^3 + 2x - 5)"
   ]
  }
 ],
 "metadata": {
  "kernelspec": {
   "display_name": "Julia 1.8.5",
   "language": "julia",
   "name": "julia-1.8"
  },
  "language_info": {
   "file_extension": ".jl",
   "mimetype": "application/julia",
   "name": "julia",
   "version": "1.8.5"
  },
  "orig_nbformat": 4
 },
 "nbformat": 4,
 "nbformat_minor": 2
}
